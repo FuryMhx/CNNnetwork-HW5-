{
 "cells": [
  {
   "cell_type": "markdown",
   "metadata": {},
   "source": [
    "# Convolutional neural networks\n",
    "\n",
    "In this notebook, we'll put together our convolutional layers to implement a 3-layer CNN.  Then, we'll ask you to implement a CNN that can achieve > 65% validation error on CIFAR-10.\n",
    "\n",
    "CS231n has built a solid API for building these modular frameworks and training them, and we will use their very well implemented framework as opposed to \"reinventing the wheel.\"  This includes using their Solver, various utility functions, their layer structure, and their implementation of fast CNN layers.  This also includes nndl.fc_net, nndl.layers, and nndl.layer_utils.  As in prior assignments, we thank Serena Yeung & Justin Johnson for permission to use code written for the CS 231n class (cs231n.stanford.edu).  \n",
    "\n",
    "\n",
    "If you have not completed the Spatial BatchNorm Notebook, please see the following description from that notebook:\n",
    "\n",
    "Please copy and paste your prior implemented code from HW #4 to start this assignment.  If you did not correctly implement the layers in HW #4, you may collaborate with a classmate to use their layer implementations from HW #4.  You may also visit TA or Prof OH to correct your implementation.  \n",
    "\n",
    "You'll want to copy and paste from HW #4:\n",
    "    - layers.py for your FC network layers, as well as batchnorm and dropout.\n",
    "    - layer_utils.py for your combined FC network layers.\n",
    "    - optim.py for your optimizers.\n",
    "\n",
    "Be sure to place these in the `nndl/` directory so they're imported correctly.  Note, as announced in class, we will not be releasing our solutions."
   ]
  },
  {
   "cell_type": "code",
   "execution_count": 2,
   "metadata": {},
   "outputs": [],
   "source": [
    "# As usual, a bit of setup\n",
    "\n",
    "import numpy as np\n",
    "import matplotlib.pyplot as plt\n",
    "from nndl.cnn import *\n",
    "from utils.data_utils import get_CIFAR10_data\n",
    "from utils.gradient_check import eval_numerical_gradient_array, eval_numerical_gradient\n",
    "from nndl.layers import *\n",
    "from nndl.conv_layers import *\n",
    "from utils.fast_layers import *\n",
    "from utils.solver import Solver\n",
    "\n",
    "%matplotlib inline\n",
    "plt.rcParams['figure.figsize'] = (10.0, 8.0) # set default size of plots\n",
    "plt.rcParams['image.interpolation'] = 'nearest'\n",
    "plt.rcParams['image.cmap'] = 'gray'\n",
    "\n",
    "# for auto-reloading external modules\n",
    "# see http://stackoverflow.com/questions/1907993/autoreload-of-modules-in-ipython\n",
    "%load_ext autoreload\n",
    "%autoreload 2\n",
    "\n",
    "def rel_error(x, y):\n",
    "  \"\"\" returns relative error \"\"\"\n",
    "  return np.max(np.abs(x - y) / (np.maximum(1e-8, np.abs(x) + np.abs(y))))"
   ]
  },
  {
   "cell_type": "code",
   "execution_count": 3,
   "metadata": {},
   "outputs": [
    {
     "name": "stdout",
     "output_type": "stream",
     "text": [
      "X_train: (49000, 3, 32, 32) \n",
      "y_train: (49000,) \n",
      "X_val: (1000, 3, 32, 32) \n",
      "y_val: (1000,) \n",
      "X_test: (1000, 3, 32, 32) \n",
      "y_test: (1000,) \n"
     ]
    }
   ],
   "source": [
    "# Load the (preprocessed) CIFAR10 data.\n",
    "\n",
    "data = get_CIFAR10_data()\n",
    "for k in data.keys():\n",
    "  print('{}: {} '.format(k, data[k].shape))"
   ]
  },
  {
   "cell_type": "markdown",
   "metadata": {},
   "source": [
    "## Three layer CNN\n",
    "\n",
    "In this notebook, you will implement a three layer CNN.  The `ThreeLayerConvNet` class is in `nndl/cnn.py`.  You'll need to modify that code for this section, including the initialization, as well as the calculation of the loss and gradients.  You should be able to use the building blocks you have either earlier coded or that we have provided.  Be sure to use the fast layers.\n",
    "\n",
    "The architecture of this CNN will be:\n",
    "\n",
    "conv - relu - 2x2 max pool - affine - relu - affine - softmax\n",
    "\n",
    "We won't use batchnorm yet.  You've also done enough of these to know how to debug; use the cells below.\n",
    "\n",
    "Note: As we are implementing several layers CNN networks. The gradient error can be expected for the `eval_numerical_gradient()` function. If your `W1 max relative error` and `W2 max relative error` are around or below 0.01, they should be acceptable. Other errors should be less than 1e-5. "
   ]
  },
  {
   "cell_type": "code",
   "execution_count": 4,
   "metadata": {},
   "outputs": [
    {
     "name": "stdout",
     "output_type": "stream",
     "text": [
      "W1 max relative error: 0.0002363098827308143\n",
      "W2 max relative error: 0.012834558109218656\n",
      "W3 max relative error: 5.944032603719739e-05\n",
      "b1 max relative error: 6.925269117802639e-05\n",
      "b2 max relative error: 1.1801826476487836e-07\n",
      "b3 max relative error: 5.831459607789406e-10\n"
     ]
    }
   ],
   "source": [
    "num_inputs = 2\n",
    "input_dim = (3, 16, 16)\n",
    "reg = 0.0\n",
    "num_classes = 10\n",
    "X = np.random.randn(num_inputs, *input_dim)\n",
    "y = np.random.randint(num_classes, size=num_inputs)\n",
    "\n",
    "model = ThreeLayerConvNet(num_filters=3, filter_size=3,\n",
    "                          input_dim=input_dim, hidden_dim=7,\n",
    "                          dtype=np.float64)\n",
    "loss, grads = model.loss(X, y)\n",
    "for param_name in sorted(grads):\n",
    "    f = lambda _: model.loss(X, y)[0]\n",
    "    param_grad_num = eval_numerical_gradient(f, model.params[param_name], verbose=False, h=1e-6)\n",
    "    e = rel_error(param_grad_num, grads[param_name])\n",
    "    print('{} max relative error: {}'.format(param_name, rel_error(param_grad_num, grads[param_name])))"
   ]
  },
  {
   "cell_type": "markdown",
   "metadata": {},
   "source": [
    "### Overfit small dataset\n",
    "\n",
    "To check your CNN implementation, let's overfit a small dataset."
   ]
  },
  {
   "cell_type": "code",
   "execution_count": 5,
   "metadata": {},
   "outputs": [
    {
     "name": "stdout",
     "output_type": "stream",
     "text": [
      "(Iteration 1 / 20) loss: 2.362546\n",
      "(Epoch 0 / 10) train acc: 0.170000; val_acc: 0.117000\n",
      "(Iteration 2 / 20) loss: 3.979359\n",
      "(Epoch 1 / 10) train acc: 0.170000; val_acc: 0.119000\n",
      "(Iteration 3 / 20) loss: 3.316965\n",
      "(Iteration 4 / 20) loss: 2.733217\n",
      "(Epoch 2 / 10) train acc: 0.260000; val_acc: 0.119000\n",
      "(Iteration 5 / 20) loss: 2.562140\n",
      "(Iteration 6 / 20) loss: 2.161792\n",
      "(Epoch 3 / 10) train acc: 0.380000; val_acc: 0.160000\n",
      "(Iteration 7 / 20) loss: 2.253736\n",
      "(Iteration 8 / 20) loss: 1.859916\n",
      "(Epoch 4 / 10) train acc: 0.400000; val_acc: 0.098000\n",
      "(Iteration 9 / 20) loss: 1.753295\n",
      "(Iteration 10 / 20) loss: 1.646840\n",
      "(Epoch 5 / 10) train acc: 0.520000; val_acc: 0.119000\n",
      "(Iteration 11 / 20) loss: 1.546418\n",
      "(Iteration 12 / 20) loss: 1.308756\n",
      "(Epoch 6 / 10) train acc: 0.570000; val_acc: 0.186000\n",
      "(Iteration 13 / 20) loss: 1.267099\n",
      "(Iteration 14 / 20) loss: 1.214133\n",
      "(Epoch 7 / 10) train acc: 0.660000; val_acc: 0.190000\n",
      "(Iteration 15 / 20) loss: 1.129290\n",
      "(Iteration 16 / 20) loss: 1.203855\n",
      "(Epoch 8 / 10) train acc: 0.700000; val_acc: 0.203000\n",
      "(Iteration 17 / 20) loss: 0.843799\n",
      "(Iteration 18 / 20) loss: 0.974359\n",
      "(Epoch 9 / 10) train acc: 0.750000; val_acc: 0.172000\n",
      "(Iteration 19 / 20) loss: 0.854074\n",
      "(Iteration 20 / 20) loss: 0.625796\n",
      "(Epoch 10 / 10) train acc: 0.800000; val_acc: 0.196000\n"
     ]
    }
   ],
   "source": [
    "num_train = 100\n",
    "small_data = {\n",
    "  'X_train': data['X_train'][:num_train],\n",
    "  'y_train': data['y_train'][:num_train],\n",
    "  'X_val': data['X_val'],\n",
    "  'y_val': data['y_val'],\n",
    "}\n",
    "\n",
    "model = ThreeLayerConvNet(weight_scale=1e-2)\n",
    "\n",
    "solver = Solver(model, small_data,\n",
    "                num_epochs=10, batch_size=50,\n",
    "                update_rule='adam',\n",
    "                optim_config={\n",
    "                  'learning_rate': 1e-3,\n",
    "                },\n",
    "                verbose=True, print_every=1)\n",
    "solver.train()"
   ]
  },
  {
   "cell_type": "code",
   "execution_count": 6,
   "metadata": {},
   "outputs": [
    {
     "data": {
      "image/png": "[encoded data removed]",
      "text/plain": [
       "<Figure size 1000x800 with 2 Axes>"
      ]
     },
     "metadata": {},
     "output_type": "display_data"
    }
   ],
   "source": [
    "plt.subplot(2, 1, 1)\n",
    "plt.plot(solver.loss_history, 'o')\n",
    "plt.xlabel('iteration')\n",
    "plt.ylabel('loss')\n",
    "\n",
    "plt.subplot(2, 1, 2)\n",
    "plt.plot(solver.train_acc_history, '-o')\n",
    "plt.plot(solver.val_acc_history, '-o')\n",
    "plt.legend(['train', 'val'], loc='upper left')\n",
    "plt.xlabel('epoch')\n",
    "plt.ylabel('accuracy')\n",
    "plt.show()"
   ]
  },
  {
   "cell_type": "markdown",
   "metadata": {},
   "source": [
    "## Train the network\n",
    "\n",
    "Now we train the 3 layer CNN on CIFAR-10 and assess its accuracy."
   ]
  },
  {
   "cell_type": "code",
   "execution_count": 7,
   "metadata": {
    "scrolled": false
   },
   "outputs": [
    {
     "name": "stdout",
     "output_type": "stream",
     "text": [
      "(Iteration 1 / 980) loss: 2.304323\n",
      "(Epoch 0 / 1) train acc: 0.136000; val_acc: 0.136000\n",
      "(Iteration 21 / 980) loss: 2.207954\n",
      "(Iteration 41 / 980) loss: 1.798766\n",
      "(Iteration 61 / 980) loss: 2.064802\n",
      "(Iteration 81 / 980) loss: 1.861099\n",
      "(Iteration 101 / 980) loss: 1.855049\n",
      "(Iteration 121 / 980) loss: 1.658991\n",
      "(Iteration 141 / 980) loss: 1.815817\n",
      "(Iteration 161 / 980) loss: 1.326318\n",
      "(Iteration 181 / 980) loss: 2.022595\n",
      "(Iteration 201 / 980) loss: 1.641709\n",
      "(Iteration 221 / 980) loss: 1.877826\n",
      "(Iteration 241 / 980) loss: 1.631371\n",
      "(Iteration 261 / 980) loss: 1.531714\n",
      "(Iteration 281 / 980) loss: 1.780931\n",
      "(Iteration 301 / 980) loss: 1.527178\n",
      "(Iteration 321 / 980) loss: 1.604898\n",
      "(Iteration 341 / 980) loss: 1.758340\n",
      "(Iteration 361 / 980) loss: 1.561351\n",
      "(Iteration 381 / 980) loss: 1.527699\n",
      "(Iteration 401 / 980) loss: 1.850302\n",
      "(Iteration 421 / 980) loss: 1.766610\n",
      "(Iteration 441 / 980) loss: 1.990235\n",
      "(Iteration 461 / 980) loss: 1.544909\n",
      "(Iteration 481 / 980) loss: 1.832894\n",
      "(Iteration 501 / 980) loss: 1.741829\n",
      "(Iteration 521 / 980) loss: 1.813254\n",
      "(Iteration 541 / 980) loss: 2.070675\n",
      "(Iteration 561 / 980) loss: 1.631089\n",
      "(Iteration 581 / 980) loss: 1.598499\n",
      "(Iteration 601 / 980) loss: 1.402315\n",
      "(Iteration 621 / 980) loss: 1.830516\n",
      "(Iteration 641 / 980) loss: 1.582647\n",
      "(Iteration 661 / 980) loss: 1.710053\n",
      "(Iteration 681 / 980) loss: 1.641495\n",
      "(Iteration 701 / 980) loss: 1.408017\n",
      "(Iteration 721 / 980) loss: 1.378994\n",
      "(Iteration 741 / 980) loss: 1.896228\n",
      "(Iteration 761 / 980) loss: 1.525349\n",
      "(Iteration 781 / 980) loss: 1.287301\n",
      "(Iteration 801 / 980) loss: 1.543243\n",
      "(Iteration 821 / 980) loss: 1.866409\n",
      "(Iteration 841 / 980) loss: 1.753571\n",
      "(Iteration 861 / 980) loss: 1.728755\n",
      "(Iteration 881 / 980) loss: 1.578095\n",
      "(Iteration 901 / 980) loss: 1.547145\n",
      "(Iteration 921 / 980) loss: 1.493463\n",
      "(Iteration 941 / 980) loss: 1.406413\n",
      "(Iteration 961 / 980) loss: 1.725868\n",
      "(Epoch 1 / 1) train acc: 0.462000; val_acc: 0.451000\n"
     ]
    }
   ],
   "source": [
    "model = ThreeLayerConvNet(weight_scale=0.001, hidden_dim=500, reg=0.001)\n",
    "\n",
    "solver = Solver(model, data,\n",
    "                num_epochs=1, batch_size=50,\n",
    "                update_rule='adam',\n",
    "                optim_config={\n",
    "                  'learning_rate': 1e-3,\n",
    "                },\n",
    "                verbose=True, print_every=20)\n",
    "solver.train()"
   ]
  },
  {
   "cell_type": "markdown",
   "metadata": {},
   "source": [
    "# Get > 65% validation accuracy on CIFAR-10.\n",
    "\n",
    "In the last part of the assignment, we'll now ask you to train a CNN to get better than 65% validation accuracy on CIFAR-10.\n",
    "\n",
    "### Things you should try:\n",
    "- Filter size: Above we used 7x7; but VGGNet and onwards showed stacks of 3x3 filters are good.  \n",
    "- Number of filters: Above we used 32 filters. Do more or fewer do better?\n",
    "- Batch normalization: Try adding spatial batch normalization after convolution layers and vanilla batch normalization aafter affine layers. Do your networks train faster?\n",
    "- Network architecture: Can a deeper CNN do better?  Consider these architectures:\n",
    "    - [conv-relu-pool]xN - conv - relu - [affine]xM - [softmax or SVM]\n",
    "    - [conv-relu-pool]XN - [affine]XM - [softmax or SVM]\n",
    "    - [conv-relu-conv-relu-pool]xN - [affine]xM - [softmax or SVM]\n",
    "\n",
    "### Tips for training\n",
    "For each network architecture that you try, you should tune the learning rate and regularization strength. When doing this there are a couple important things to keep in mind:\n",
    "\n",
    "- If the parameters are working well, you should see improvement within a few hundred iterations\n",
    "- Remember the coarse-to-fine approach for hyperparameter tuning: start by testing a large range of hyperparameters for just a few training iterations to find the combinations of parameters that are working at all.\n",
    "- Once you have found some sets of parameters that seem to work, search more finely around these parameters. You may need to train for more epochs."
   ]
  },
  {
   "cell_type": "code",
   "execution_count": 11,
   "metadata": {
    "scrolled": false
   },
   "outputs": [
    {
     "name": "stdout",
     "output_type": "stream",
     "text": [
      "(Iteration 1 / 366) loss: 2.304626\n",
      "(Epoch 0 / 6) train acc: 0.098000; val_acc: 0.105000\n",
      "(Iteration 21 / 366) loss: 1.760903\n",
      "(Iteration 41 / 366) loss: 1.561822\n",
      "(Iteration 61 / 366) loss: 1.403849\n",
      "(Epoch 1 / 6) train acc: 0.509000; val_acc: 0.502000\n",
      "(Iteration 81 / 366) loss: 1.353386\n",
      "(Iteration 101 / 366) loss: 1.360045\n",
      "(Iteration 121 / 366) loss: 1.198331\n",
      "(Epoch 2 / 6) train acc: 0.566000; val_acc: 0.581000\n",
      "(Iteration 141 / 366) loss: 1.176595\n",
      "(Iteration 161 / 366) loss: 1.101311\n",
      "(Iteration 181 / 366) loss: 1.077048\n",
      "(Epoch 3 / 6) train acc: 0.655000; val_acc: 0.622000\n",
      "(Iteration 201 / 366) loss: 1.035905\n",
      "(Iteration 221 / 366) loss: 1.099724\n",
      "(Iteration 241 / 366) loss: 0.928033\n",
      "(Epoch 4 / 6) train acc: 0.706000; val_acc: 0.650000\n",
      "(Iteration 261 / 366) loss: 0.974193\n",
      "(Iteration 281 / 366) loss: 0.901123\n",
      "(Iteration 301 / 366) loss: 0.867813\n",
      "(Epoch 5 / 6) train acc: 0.730000; val_acc: 0.634000\n",
      "(Iteration 321 / 366) loss: 0.819308\n",
      "(Iteration 341 / 366) loss: 0.796763\n",
      "(Iteration 361 / 366) loss: 0.777600\n",
      "(Epoch 6 / 6) train acc: 0.713000; val_acc: 0.653000\n"
     ]
    }
   ],
   "source": [
    "# ================================================================ #\n",
    "# YOUR CODE HERE:\n",
    "#   Implement a CNN to achieve greater than 65% validation accuracy\n",
    "#   on CIFAR-10.\n",
    "# ================================================================ #\n",
    "model = ThreeLayerConvNet(weight_scale=0.001, hidden_dim=500, reg=0.001)\n",
    "\n",
    "solver = Solver(model, data,\n",
    "                num_epochs=6, batch_size=800,\n",
    "                update_rule='adam',\n",
    "                optim_config={\n",
    "                  'learning_rate': 0.8e-3,\n",
    "                },\n",
    "                verbose=True, print_every=20)\n",
    "solver.train()\n",
    "\n",
    "# ================================================================ #\n",
    "# END YOUR CODE HERE\n",
    "# ================================================================ #\n"
   ]
  },
  {
   "cell_type": "code",
   "execution_count": null,
   "metadata": {},
   "outputs": [],
   "source": []
  }
 ],
 "metadata": {
  "kernelspec": {
   "display_name": "Python 3 (ipykernel)",
   "language": "python",
   "name": "python3"
  },
  "language_info": {
   "codemirror_mode": {
    "name": "ipython",
    "version": 3
   },
   "file_extension": ".py",
   "mimetype": "text/x-python",
   "name": "python",
   "nbconvert_exporter": "python",
   "pygments_lexer": "ipython3",
   "version": "3.11.5"
  }
 },
 "nbformat": 4,
 "nbformat_minor": 2
}
